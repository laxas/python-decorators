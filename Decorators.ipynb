{
 "cells": [
  {
   "cell_type": "markdown",
   "metadata": {},
   "source": [
    "# Python Decorators for Data Science\n",
    "## What can a Decorator be used for?\n",
    "  - logging\n",
    "  - caching\n",
    "  - wraping \n",
    "  - \n",
    "## What is a Decorator?"
   ]
  },
  {
   "cell_type": "markdown",
   "metadata": {},
   "source": [
    "### A Simple Function"
   ]
  },
  {
   "cell_type": "code",
   "execution_count": 64,
   "metadata": {
    "collapsed": false
   },
   "outputs": [
    {
     "data": {
      "text/plain": [
       "20"
      ]
     },
     "execution_count": 64,
     "metadata": {},
     "output_type": "execute_result"
    }
   ],
   "source": [
    "def multi(a, b):\n",
    "    return a*b\n",
    "\n",
    "multi(5, 4)"
   ]
  },
  {
   "cell_type": "markdown",
   "metadata": {},
   "source": [
    "### A lazy Decorator"
   ]
  },
  {
   "cell_type": "code",
   "execution_count": 65,
   "metadata": {
    "collapsed": false
   },
   "outputs": [
    {
     "data": {
      "text/plain": [
       "20"
      ]
     },
     "execution_count": 65,
     "metadata": {},
     "output_type": "execute_result"
    }
   ],
   "source": [
    "def lazy(func):   \n",
    "    return func\n",
    "\n",
    "@lazy\n",
    "def multi(a, b):\n",
    "    return a*b\n",
    "\n",
    "multi(4, 5)"
   ]
  },
  {
   "cell_type": "markdown",
   "metadata": {},
   "source": [
    "### Is the Decorator realy working?"
   ]
  },
  {
   "cell_type": "code",
   "execution_count": 1,
   "metadata": {
    "collapsed": false
   },
   "outputs": [
    {
     "name": "stdout",
     "output_type": "stream",
     "text": [
      "I am so lazy.\n"
     ]
    },
    {
     "data": {
      "text/plain": [
       "20"
      ]
     },
     "execution_count": 1,
     "metadata": {},
     "output_type": "execute_result"
    }
   ],
   "source": [
    "def lazy(func):\n",
    "    print(\"I am so lazy.\")\n",
    "    return func\n",
    "\n",
    "@lazy\n",
    "def multi(a, b):\n",
    "    return a*b\n",
    "\n",
    "multi(4, 5)"
   ]
  },
  {
   "cell_type": "markdown",
   "metadata": {},
   "source": [
    "### A Decorator that spys on a Function"
   ]
  },
  {
   "cell_type": "code",
   "execution_count": 45,
   "metadata": {
    "collapsed": false
   },
   "outputs": [
    {
     "name": "stdout",
     "output_type": "stream",
     "text": [
      "'multi' has been called.\n",
      "('a', 'b', 'x')\n"
     ]
    },
    {
     "data": {
      "text/plain": [
       "20"
      ]
     },
     "execution_count": 45,
     "metadata": {},
     "output_type": "execute_result"
    }
   ],
   "source": [
    "def spy(func):\n",
    "    print(\"'{0}' has been called.\".format(func.func_name))\n",
    "    print(func.func_code.co_varnames)\n",
    "    return func\n",
    "\n",
    "@spy\n",
    "def multi(a, b):\n",
    "    x = 1\n",
    "    return a*b\n",
    "\n",
    "multi(4, 5)\n"
   ]
  },
  {
   "cell_type": "markdown",
   "metadata": {},
   "source": [
    "### An evil Decorator"
   ]
  },
  {
   "cell_type": "code",
   "execution_count": 67,
   "metadata": {
    "collapsed": false
   },
   "outputs": [
    {
     "data": {
      "text/plain": [
       "666"
      ]
     },
     "execution_count": 67,
     "metadata": {},
     "output_type": "execute_result"
    }
   ],
   "source": [
    "def evil(func):\n",
    "    \n",
    "    def out(x, y):\n",
    "        return 666\n",
    "\n",
    "    return out\n",
    "\n",
    "@evil\n",
    "def multi(a, b):\n",
    "    return a*b\n",
    "\n",
    "multi(4, 5)"
   ]
  },
  {
   "cell_type": "markdown",
   "metadata": {},
   "source": [
    "### A more general evil Decorator"
   ]
  },
  {
   "cell_type": "code",
   "execution_count": 31,
   "metadata": {
    "collapsed": false
   },
   "outputs": [
    {
     "data": {
      "text/plain": [
       "'out'"
      ]
     },
     "execution_count": 31,
     "metadata": {},
     "output_type": "execute_result"
    }
   ],
   "source": [
    "def evil(func):\n",
    "    \n",
    "    def out(*args, **kwargs):\n",
    "        return 666\n",
    "\n",
    "    return out\n",
    "\n",
    "@evil\n",
    "def multi(a, b):\n",
    "    return a*b\n",
    "\n",
    "multi(4, b=5)\n",
    "multi.__name__"
   ]
  },
  {
   "cell_type": "markdown",
   "metadata": {},
   "source": [
    "### A Function that behaves well"
   ]
  },
  {
   "cell_type": "code",
   "execution_count": 46,
   "metadata": {
    "collapsed": false
   },
   "outputs": [
    {
     "data": {
      "text/plain": [
       "'I do multiplications. I am a slave to a decorator.'"
      ]
     },
     "execution_count": 46,
     "metadata": {},
     "output_type": "execute_result"
    }
   ],
   "source": [
    "def evil(func):\n",
    "    \"\"\"Evil funktion\"\"\"\n",
    "    \n",
    "    def out(*args, **kwargs):\n",
    "        \"\"\"Return function\"\"\"\n",
    "        return 666\n",
    "\n",
    "    out.__name__ = func.__name__\n",
    "    out.__doc__ = func.__doc__ + \" I am a slave to a decorator.\"\n",
    "    \n",
    "    return out\n",
    "\n",
    "\n",
    "@evil\n",
    "def multi(a, b):\n",
    "    \"\"\"I do multiplications.\"\"\"\n",
    "    return a*b\n",
    "\n",
    "multi.__name__\n",
    "multi.__doc__\n"
   ]
  },
  {
   "cell_type": "code",
   "execution_count": null,
   "metadata": {
    "collapsed": true
   },
   "outputs": [],
   "source": []
  },
  {
   "cell_type": "code",
   "execution_count": 82,
   "metadata": {
    "collapsed": false
   },
   "outputs": [
    {
     "name": "stdout",
     "output_type": "stream",
     "text": [
      "((7, 8), ())\n",
      "fresh\n",
      "((7, 7), ())\n",
      "fresh\n",
      "((7, 8), ())\n",
      "from cache\n",
      "((7,), (('b', 8),))\n",
      "fresh\n"
     ]
    },
    {
     "data": {
      "text/plain": [
       "56"
      ]
     },
     "execution_count": 82,
     "metadata": {},
     "output_type": "execute_result"
    }
   ],
   "source": [
    "def mycache(func):\n",
    "    \"\"\"My Cache\"\"\"\n",
    "    cache = {}\n",
    "    \n",
    "    def out(*args, **kwargs):\n",
    "        key = (args, tuple([(k, v) for k, v in kwargs.iteritems()]))\n",
    "        print(key)\n",
    "        if key in cache:\n",
    "            print(\"from cache\")\n",
    "            return cache[key]\n",
    "        else:\n",
    "            print(\"fresh\")\n",
    "            result = func(*args, **kwargs)\n",
    "            cache[key] = result\n",
    "            return result\n",
    "        \n",
    "    return out\n",
    "\n",
    "@mycache\n",
    "def multi(a, b):\n",
    "    return a*b\n",
    "\n",
    "multi(7, 8)\n",
    "multi(7, 7)\n",
    "multi(7, 8)\n",
    "multi(7, b=8)\n"
   ]
  },
  {
   "cell_type": "code",
   "execution_count": 81,
   "metadata": {
    "collapsed": false
   },
   "outputs": [
    {
     "name": "stdout",
     "output_type": "stream",
     "text": [
      "((7,), (('b', 8),))\n",
      "from cache\n",
      "((7,), (('b', 7),))\n",
      "from cache\n",
      "((7,), (('b', 8),))\n",
      "from cache\n",
      "((7, 8), ())\n",
      "from cache\n",
      "((7, 8), ())\n",
      "fresh\n"
     ]
    },
    {
     "data": {
      "text/plain": [
       "15"
      ]
     },
     "execution_count": 81,
     "metadata": {},
     "output_type": "execute_result"
    }
   ],
   "source": [
    "@mycache\n",
    "def add(a, b):\n",
    "    return a+b\n",
    "\n",
    "multi(7, 8)\n",
    "add(7, 8)"
   ]
  },
  {
   "cell_type": "code",
   "execution_count": 62,
   "metadata": {
    "collapsed": false
   },
   "outputs": [
    {
     "ename": "ImportError",
     "evalue": "cannot import name lru_cache",
     "output_type": "error",
     "traceback": [
      "\u001b[0;31m---------------------------------------------------------------------------\u001b[0m",
      "\u001b[0;31mImportError\u001b[0m                               Traceback (most recent call last)",
      "\u001b[0;32m<ipython-input-62-78b79e3a71a8>\u001b[0m in \u001b[0;36m<module>\u001b[0;34m()\u001b[0m\n\u001b[0;32m----> 1\u001b[0;31m \u001b[0;32mfrom\u001b[0m \u001b[0mfunctools\u001b[0m \u001b[0;32mimport\u001b[0m \u001b[0mlru_cache\u001b[0m\u001b[0;34m\u001b[0m\u001b[0m\n\u001b[0m",
      "\u001b[0;31mImportError\u001b[0m: cannot import name lru_cache"
     ]
    }
   ],
   "source": [
    "from functools import lru_cache"
   ]
  },
  {
   "cell_type": "code",
   "execution_count": null,
   "metadata": {
    "collapsed": true
   },
   "outputs": [],
   "source": []
  }
 ],
 "metadata": {
  "kernelspec": {
   "display_name": "Python 3",
   "language": "python",
   "name": "python3"
  },
  "language_info": {
   "codemirror_mode": {
    "name": "ipython",
    "version": 2
   },
   "file_extension": ".py",
   "mimetype": "text/x-python",
   "name": "python",
   "nbconvert_exporter": "python",
   "pygments_lexer": "ipython2",
   "version": "2.7.12"
  }
 },
 "nbformat": 4,
 "nbformat_minor": 2
}
